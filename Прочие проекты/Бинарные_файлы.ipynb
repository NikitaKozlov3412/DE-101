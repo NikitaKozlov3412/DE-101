{
  "nbformat": 4,
  "nbformat_minor": 0,
  "metadata": {
    "colab": {
      "provenance": []
    },
    "kernelspec": {
      "name": "python3",
      "display_name": "Python 3"
    },
    "language_info": {
      "name": "python"
    }
  },
  "cells": [
    {
      "cell_type": "code",
      "execution_count": 9,
      "metadata": {
        "colab": {
          "base_uri": "https://localhost:8080/",
          "height": 211
        },
        "id": "kdfSOzGdGkKs",
        "outputId": "b2b55fdf-0b46-4790-c91f-df01c07c76ed"
      },
      "outputs": [
        {
          "output_type": "error",
          "ename": "FileNotFoundError",
          "evalue": "[Errno 2] No such file or directory: '/content/drive/MyDrive/python_обучение/forest.png'",
          "traceback": [
            "\u001b[0;31m---------------------------------------------------------------------------\u001b[0m",
            "\u001b[0;31mFileNotFoundError\u001b[0m                         Traceback (most recent call last)",
            "\u001b[0;32m<ipython-input-9-4efef5ac5f78>\u001b[0m in \u001b[0;36m<cell line: 0>\u001b[0;34m()\u001b[0m\n\u001b[1;32m      8\u001b[0m \u001b[0;34m\u001b[0m\u001b[0m\n\u001b[1;32m      9\u001b[0m \u001b[0;31m# считываем файл в список image_data\u001b[0m\u001b[0;34m\u001b[0m\u001b[0;34m\u001b[0m\u001b[0m\n\u001b[0;32m---> 10\u001b[0;31m \u001b[0;32mwith\u001b[0m \u001b[0mopen\u001b[0m\u001b[0;34m(\u001b[0m\u001b[0mFILENAME\u001b[0m\u001b[0;34m,\u001b[0m \u001b[0;34m\"rb\"\u001b[0m\u001b[0;34m)\u001b[0m \u001b[0;32mas\u001b[0m \u001b[0mfile\u001b[0m\u001b[0;34m:\u001b[0m\u001b[0;34m\u001b[0m\u001b[0;34m\u001b[0m\u001b[0m\n\u001b[0m\u001b[1;32m     11\u001b[0m     \u001b[0mimage_data\u001b[0m \u001b[0;34m=\u001b[0m \u001b[0mfile\u001b[0m\u001b[0;34m.\u001b[0m\u001b[0mread\u001b[0m\u001b[0;34m(\u001b[0m\u001b[0;34m)\u001b[0m\u001b[0;34m\u001b[0m\u001b[0;34m\u001b[0m\u001b[0m\n\u001b[1;32m     12\u001b[0m \u001b[0;34m\u001b[0m\u001b[0m\n",
            "\u001b[0;31mFileNotFoundError\u001b[0m: [Errno 2] No such file or directory: '/content/drive/MyDrive/python_обучение/forest.png'"
          ]
        }
      ],
      "source": [
        "# Бинарные файлы\n",
        "\n",
        "# При чтении мы получаем файл в виде набора байт, и наоборот, при записи в метод write() передается набор байт. Например, скопируем файл:\n",
        "FILENAME = \"/content/drive/MyDrive/python_обучение/forest.png\"             # файл для чтения\n",
        "NEWFILENAME = \"forest_new.png\"      # файл для записи\n",
        "\n",
        "image_data = []     # список для хранения считанных данных\n",
        "\n",
        "# считываем файл в список image_data\n",
        "with open(FILENAME, \"rb\") as file:\n",
        "    image_data = file.read()\n",
        "\n",
        "# запись выше считанных байт в новый файл\n",
        "with open(NEWFILENAME, \"wb\") as file:\n",
        "    file.write(image_data)\n",
        "\n",
        "print(f\"Файл {FILENAME} скопирован в {NEWFILENAME}\")"
      ]
    },
    {
      "cell_type": "code",
      "source": [
        "# Модуль pickle\n",
        "\n",
        "'''\n",
        "Этот модуль предоставляет два метода:\n",
        "\n",
        "dump(obj, file): записывает объект obj в бинарный файл file\n",
        "\n",
        "load(file): считывает данные из бинарного файла в объект\n",
        "'''\n",
        "\n",
        "import pickle\n",
        "\n",
        "FILENAME = \"user.dat\"\n",
        "\n",
        "name = \"Tom\"\n",
        "age = 19\n",
        "\n",
        "with open(FILENAME, \"wb\") as file:\n",
        "    pickle.dump(name, file)\n",
        "    pickle.dump(age, file)\n",
        "\n",
        "with open(FILENAME, \"rb\") as file:\n",
        "    name = pickle.load(file)\n",
        "    age = pickle.load(file)\n",
        "    print(\"Имя:\", name, \"\\tВозраст:\", age)\n",
        "\n",
        "\n",
        "'''\n",
        "С помощью функции dump последовательно записываются два объекта. Поэтому при чтении файла также последовательно\n",
        "посредством функции load мы можем считать эти объекты.\n",
        "'''"
      ],
      "metadata": {
        "colab": {
          "base_uri": "https://localhost:8080/",
          "height": 70
        },
        "id": "7XIsgTJaG3V4",
        "outputId": "296f0163-da68-4e08-df8d-6434f60776dc"
      },
      "execution_count": 2,
      "outputs": [
        {
          "output_type": "stream",
          "name": "stdout",
          "text": [
            "Имя: Tom \tВозраст: 19\n"
          ]
        },
        {
          "output_type": "execute_result",
          "data": {
            "text/plain": [
              "'\\nС помощью функции dump последовательно записываются два объекта. Поэтому при чтении файла также последовательно \\nпосредством функции load мы можем считать эти объекты.\\n'"
            ],
            "application/vnd.google.colaboratory.intrinsic+json": {
              "type": "string"
            }
          },
          "metadata": {},
          "execution_count": 2
        }
      ]
    },
    {
      "cell_type": "code",
      "source": [
        "# Подобным образом мы можем сохранять и извлекать из файла наборы объектов:\n",
        "\n",
        "import pickle\n",
        "\n",
        "FILENAME = \"users.dat\"\n",
        "\n",
        "users = [\n",
        "    [\"Tom\", 28, True],\n",
        "    [\"Alice\", 23, False],\n",
        "    [\"Bob\", 34, False]\n",
        "]\n",
        "\n",
        "with open(FILENAME, \"wb\") as file:\n",
        "    pickle.dump(users, file)\n",
        "\n",
        "\n",
        "with open(FILENAME, \"rb\") as file:\n",
        "    users_from_file = pickle.load(file)\n",
        "    for user in users_from_file:\n",
        "        print(\"Имя:\", user[0], \"\\tВозраст:\", user[1], \"\\tЖенат/замужем:\", user[2])"
      ],
      "metadata": {
        "colab": {
          "base_uri": "https://localhost:8080/"
        },
        "id": "kiGtwx7AHAgW",
        "outputId": "b70a71a3-9ddc-4df4-e159-4a9e46b326c1"
      },
      "execution_count": 3,
      "outputs": [
        {
          "output_type": "stream",
          "name": "stdout",
          "text": [
            "Имя: Tom \tВозраст: 28 \tЖенат/замужем: True\n",
            "Имя: Alice \tВозраст: 23 \tЖенат/замужем: False\n",
            "Имя: Bob \tВозраст: 34 \tЖенат/замужем: False\n"
          ]
        }
      ]
    }
  ]
}